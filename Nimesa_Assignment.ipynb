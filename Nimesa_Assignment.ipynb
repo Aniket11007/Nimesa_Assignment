{
  "cells": [
    {
      "cell_type": "markdown",
      "metadata": {
        "id": "view-in-github",
        "colab_type": "text"
      },
      "source": [
        "<a href=\"https://colab.research.google.com/github/Aniket11007/Nimesa_Assignment/blob/main/Nimesa_Assignment.ipynb\" target=\"_parent\"><img src=\"https://colab.research.google.com/assets/colab-badge.svg\" alt=\"Open In Colab\"/></a>"
      ]
    },
    {
      "cell_type": "code",
      "execution_count": null,
      "metadata": {
        "colab": {
          "base_uri": "https://localhost:8080/"
        },
        "id": "Cprk0Rw2ify3",
        "outputId": "8aed8707-b302-43a4-c48f-11ae12aec315"
      },
      "outputs": [
        {
          "name": "stdout",
          "output_type": "stream",
          "text": [
            "Requirement already satisfied: requests in /usr/local/lib/python3.10/dist-packages (2.27.1)\n",
            "Requirement already satisfied: urllib3<1.27,>=1.21.1 in /usr/local/lib/python3.10/dist-packages (from requests) (1.26.16)\n",
            "Requirement already satisfied: certifi>=2017.4.17 in /usr/local/lib/python3.10/dist-packages (from requests) (2023.5.7)\n",
            "Requirement already satisfied: charset-normalizer~=2.0.0 in /usr/local/lib/python3.10/dist-packages (from requests) (2.0.12)\n",
            "Requirement already satisfied: idna<4,>=2.5 in /usr/local/lib/python3.10/dist-packages (from requests) (3.4)\n"
          ]
        }
      ],
      "source": [
        "pip install requests"
      ]
    },
    {
      "cell_type": "code",
      "source": [
        "import requests\n",
        "import json\n",
        "import csv\n",
        "\n",
        "WEATHER_API_URL = \"https://samples.openweathermap.org/data/2.5/forecast/hourly?q=London,uk&appid=b6907d289e10d714a6e88b30761fae22\"\n",
        "\n",
        "def get_api_data():\n",
        "    try:\n",
        "        response = requests.get(WEATHER_API_URL)\n",
        "        response.raise_for_status()\n",
        "        data = response.json()\n",
        "        if \"list\" in data:\n",
        "            return data[\"list\"]\n",
        "        else:\n",
        "            raise ValueError(\"Failed to retrieve data from the API.\")\n",
        "    except requests.exceptions.RequestException as e:\n",
        "        print(\"Failed to retrieve data from the API:\", e)\n",
        "        return []\n",
        "\n",
        "def get_temperature(date):\n",
        "    data = get_api_data()\n",
        "    for entry in data:\n",
        "        if entry[\"dt_txt\"].startswith(date):\n",
        "            return entry[\"main\"][\"temp\"]\n",
        "    return None\n",
        "\n",
        "def get_wind_speed(date):\n",
        "    data = get_api_data()\n",
        "    for entry in data:\n",
        "        if entry[\"dt_txt\"].startswith(date):\n",
        "            return entry[\"wind\"][\"speed\"]\n",
        "    return None\n",
        "\n",
        "def get_pressure(date):\n",
        "    data = get_api_data()\n",
        "    for entry in data:\n",
        "        if entry[\"dt_txt\"].startswith(date):\n",
        "            return entry[\"main\"][\"pressure\"]\n",
        "    return None\n",
        "\n",
        "def save_to_csv_file(filename, choice, data):\n",
        "    with open(filename, \"w\", newline=\"\") as csvfile:\n",
        "        fieldnames = [\"Date\", choice]\n",
        "        writer = csv.DictWriter(csvfile, fieldnames=fieldnames)\n",
        "        writer.writeheader()\n",
        "        for date, value in data:\n",
        "            writer.writerow({\"Date\": date, choice: value})\n",
        "\n",
        "def main():\n",
        "    while True:\n",
        "        print(\"1. Get weather\")\n",
        "        print(\"2. Get wind speed\")\n",
        "        print(\"3. Get pressure\")\n",
        "        print(\"0. Exit\")\n",
        "        user_choice = input(\"Enter your choice: \")\n",
        "\n",
        "        if user_choice in [\"1\", \"2\", \"3\"]:\n",
        "            date_input = input(\"Enter the date (YYYY-MM-DD): \")\n",
        "            data_to_save = []\n",
        "\n",
        "            if user_choice == \"1\":\n",
        "                temperature = get_temperature(date_input)\n",
        "                if temperature is not None:\n",
        "                    print(f\"Temperature on {date_input}: {temperature} K\")\n",
        "                    data_to_save.append((date_input, temperature))\n",
        "                else:\n",
        "                    print(\"Data not available for the specified date\")\n",
        "\n",
        "            elif user_choice == \"2\":\n",
        "                wind_speed = get_wind_speed(date_input)\n",
        "                if wind_speed is not None:\n",
        "                    print(f\"Wind speed on {date_input}: {wind_speed} m/s\")\n",
        "                    data_to_save.append((date_input, wind_speed))\n",
        "                else:\n",
        "                    print(\"Data not available for the specified date\")\n",
        "\n",
        "            elif user_choice == \"3\":\n",
        "                pressure = get_pressure(date_input)\n",
        "                if pressure is not None:\n",
        "                    print(f\"Pressure on {date_input}: {pressure} hPa\")\n",
        "                    data_to_save.append((date_input, pressure))\n",
        "                else:\n",
        "                    print(\"Data not available for the specified date\")\n",
        "                    continue  # Skip to the next iteration without asking to save\n",
        "\n",
        "            if data_to_save:\n",
        "                # asking whether user wants to save the data into CSV file\n",
        "                while 1:\n",
        "                    save_choice = input(\"Do you want to save the data to a CSV file? (y/n): \")\n",
        "                    if save_choice.lower() == \"y\":\n",
        "                        if user_choice == \"1\":\n",
        "                            filename = f\"Weather_Data_of_{date_input}.csv\"\n",
        "                        elif user_choice == \"2\":\n",
        "                            filename = f\"Weather_Speed_of_{date_input}.csv\"\n",
        "                        elif user_choice == \"3\":\n",
        "                            filename = f\"Weather_Pressure_of_{date_input}.csv\"\n",
        "                        save_to_csv_file(filename, user_choice, data_to_save)\n",
        "                        print(f\"Data saved to file {filename}.\")\n",
        "                        break\n",
        "                    elif save_choice.lower() == \"n\":\n",
        "                        break\n",
        "                    else:\n",
        "                        print(\"Invalid choice. Please enter 'y' or 'n'.\")\n",
        "\n",
        "        elif user_choice == \"0\":\n",
        "            print(\"Program Ends\")\n",
        "            break\n",
        "        else:\n",
        "            print(\"Invalid choice. Please try again.\")\n",
        "\n",
        "if __name__ == \"__main__\":\n",
        "    main()\n"
      ],
      "metadata": {
        "colab": {
          "base_uri": "https://localhost:8080/"
        },
        "id": "dxSRmqVMmqh-",
        "outputId": "c53edf38-65fe-4453-c07e-f55d8c812576"
      },
      "execution_count": 34,
      "outputs": [
        {
          "output_type": "stream",
          "name": "stdout",
          "text": [
            "1. Get weather\n",
            "2. Get wind speed\n",
            "3. Get pressure\n",
            "0. Exit\n",
            "Enter your choice: 1\n",
            "Enter the date (YYYY-MM-DD): 2019-03-27\n",
            "Temperature on 2019-03-27: 278.76 K\n",
            "Do you want to save the data to a CSV file? (y/n): y\n",
            "Data saved to file Weather_Data_of_2019-03-27.csv.\n",
            "1. Get weather\n",
            "2. Get wind speed\n",
            "3. Get pressure\n",
            "0. Exit\n",
            "Enter your choice: 2\n",
            "Enter the date (YYYY-MM-DD): 2019-03-28\n",
            "Wind speed on 2019-03-28: 1.13 m/s\n",
            "Do you want to save the data to a CSV file? (y/n): y\n",
            "Data saved to file Weather_Speed_of_2019-03-28.csv.\n",
            "1. Get weather\n",
            "2. Get wind speed\n",
            "3. Get pressure\n",
            "0. Exit\n",
            "Enter your choice: 3\n",
            "Enter the date (YYYY-MM-DD): 2019-03-29\n",
            "Pressure on 2019-03-29: 1034.874 hPa\n",
            "Do you want to save the data to a CSV file? (y/n): y\n",
            "Data saved to file Weather_Pressure_of_2019-03-29.csv.\n",
            "1. Get weather\n",
            "2. Get wind speed\n",
            "3. Get pressure\n",
            "0. Exit\n",
            "Enter your choice: 1\n",
            "Enter the date (YYYY-MM-DD): 2022-09-22\n",
            "Data not available for the specified date\n",
            "1. Get weather\n",
            "2. Get wind speed\n",
            "3. Get pressure\n",
            "0. Exit\n",
            "Enter your choice: 0\n",
            "Program Ends\n"
          ]
        }
      ]
    }
  ],
  "metadata": {
    "colab": {
      "provenance": [],
      "authorship_tag": "ABX9TyPT9UMOkPUiBQashx3QN5GB",
      "include_colab_link": true
    },
    "kernelspec": {
      "display_name": "Python 3",
      "name": "python3"
    },
    "language_info": {
      "name": "python"
    }
  },
  "nbformat": 4,
  "nbformat_minor": 0
}